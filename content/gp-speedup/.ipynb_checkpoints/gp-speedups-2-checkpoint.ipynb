{
 "cells": [
  {
   "cell_type": "markdown",
   "metadata": {},
   "source": [
    "# Speeding up Computation\n",
    "\n",
    "The goal of PyMC3 is to be able to flexibly define Bayesian models, so we don't want to restrict users to the case where the GP prior is conjugate to the likelihood.  It should be easy to use non-conjugate likelihoods.  Also, I think any tricks we might employ should be transparent to the user, but optional.  Perhaps each could be turned on by setting a flag.  \n",
    "\n",
    "The computational complexity of the Cholesky decomposition is $\\mathcal{O}(n^3)$, where $n$ is the number of rows or columns of the matrix being decomposed (and so the number of data points).  For PyMC3, Theano also needs to be able to compute the gradient.   \n",
    "\n",
    "The three main ways that I've been able to find in the literature of reducing the $\\mathcal{O}(n^3)$ complexity from the Cholesky decomposition can be summarized very roughly as:\n",
    "\n",
    "1. Exploit special structure in the matrix $K$ with specialized linear algebra algorithms\n",
    "2. Make $K$ effectively smaller (\"inducing point methods\")\n",
    "3. Variational methods (not discussed here, I need to read some more!)\n",
    "\n",
    "## 1.  Exploiting Matrix Structure\n",
    "\n",
    "The first set of methods exploits structure in the covariance matrix (or kernel) to speed up the solve operation.  Depending on the problem, these methods can be combined."
   ]
  },
  {
   "cell_type": "code",
   "execution_count": 1,
   "metadata": {
    "collapsed": true
   },
   "outputs": [],
   "source": [
    "# add pymc3 master to path\n",
    "import sys\n",
    "sys.path.insert(0, \"/home/bill/pymc3/\")\n",
    "\n",
    "# do imports\n",
    "import pymc3 as pm\n",
    "import theano\n",
    "import matplotlib.pyplot as plt\n",
    "%matplotlib inline"
   ]
  },
  {
   "cell_type": "markdown",
   "metadata": {},
   "source": [
    "### Toeplitz structure\n",
    "\n",
    "Each diagonal of a Toeplitz matrix is constant.  For instance, the following matrix is Toeplitz:\n",
    "\n",
    "$$\n",
    "A = \\begin{bmatrix}\n",
    "a & b & c & d & e \\\\\n",
    "f & a & b & c & d \\\\\n",
    "g & f & a & b & c \\\\\n",
    "h & g & f & a & b \\\\\n",
    "i & h & g & f & a \n",
    "\\end{bmatrix}\n",
    "$$\n",
    "\n",
    "If a stationary covariance matrix is used, such as the Matern and Exponentiated Quadratic, and the inputs `X` are evenly spaced and one dimensional, then the resulting covariance matrix has Toeplitz structure.  An example of a covariance matrix with Toeplitz structure is shown below."
   ]
  },
  {
   "cell_type": "code",
   "execution_count": 2,
   "metadata": {
    "collapsed": false
   },
   "outputs": [
    {
     "data": {
      "image/png": "[encoded data removed]",
      "text/plain": [
       "<matplotlib.figure.Figure at 0x7feb8a2bf208>"
      ]
     },
     "metadata": {},
     "output_type": "display_data"
    }
   ],
   "source": [
    "X = np.linspace(0,1,50)[:,None]\n",
    "# define and evaluate covariance function\n",
    "K = theano.function([], pm.gp.cov.Matern32(1, 0.3)(X))()\n",
    "\n",
    "ax = plt.figure(figsize=(8,8)).add_subplot(111)\n",
    "m = ax.imshow(K, cmap=\"inferno\",\n",
    "              interpolation='none',\n",
    "              extent=(np.min(X), np.max(X), np.max(X), np.min(X)));"
   ]
  },
  {
   "cell_type": "markdown",
   "metadata": {},
   "source": [
    "To include in PyMC3 this would require a new Op and gradient to be implemented (eventually, preferably) in Theano. This may also benefit some time series methods. \n",
    "\n",
    "\n",
    "##### References\n",
    "\n",
    "- [KISS-GP](https://arxiv.org/abs/1503.01057)\n",
    "- [Cunningham et al.](http://icml2008.cs.helsinki.fi/papers/151.pdf)\n",
    "- [Fast Cholesky Factorization](http://www.math.niu.edu/~ammar/cortona/node3.html)"
   ]
  },
  {
   "cell_type": "markdown",
   "metadata": {},
   "source": [
    "### Kronecker Structure\n",
    "\n",
    "It may be possible to exploit Kronecker structure if the number of $X$ dimensions is greater than 1.\n",
    "\n",
    "The product of two covariance functions is also a covariance function, even if the inputs are over different spaces.  For example, in the two dimensional case, $k = k_1(x_1, x_1') k_2(x_2 , x_2')$ is a valid covariance function.  If the number of $x_1$ data points is $n_1$, and the number of $x_2$ data points is $n_2$, then the dimension of the $k$ **matrix** will be $n_1 n_2 \\times n_1 n_2$ (large!).\n",
    "\n",
    "Fortunately, the matrix $K$ can be written in terms of a Kronecker product, $K = K_1 \\otimes K_2$, and the inverse of a Kronecker product is equal to the Kronecker product of the inverses, $K^{-1} = K_1^{-1} \\otimes K_2^{-1}$.  \n",
    "\n",
    "For example, in a two dimensional scenario, this reduces complexity from $\\mathcal{O}((n_1 n_2)^3)$ to the much faster $\\mathcal{O}(n_1^3) + \\mathcal{O}(n_2^3)$.\n",
    "\n",
    "The full matrix $K$ has an apparent blocked structure, as shown below."
   ]
  },
  {
   "cell_type": "code",
   "execution_count": 3,
   "metadata": {
    "collapsed": false
   },
   "outputs": [
    {
     "data": {
      "image/png": "[encoded data removed]",
      "text/plain": [
       "<matplotlib.figure.Figure at 0x7feb84dc22e8>"
      ]
     },
     "metadata": {},
     "output_type": "display_data"
    }
   ],
   "source": [
    "x1 = np.linspace(0,1,10)[:,None]\n",
    "K1 = theano.function([], pm.gp.cov.Matern32(1, 0.3)(x1))()\n",
    "\n",
    "A = np.array([[1,2], [3,4]])\n",
    "K = np.kron(A, K1)\n",
    "\n",
    "ax = plt.figure(figsize=(8,8)).add_subplot(111)\n",
    "m = ax.imshow(K, cmap=\"inferno\",\n",
    "              interpolation='none')"
   ]
  },
  {
   "cell_type": "markdown",
   "metadata": {},
   "source": [
    "$K = K_1 \\otimes K_2$ has no diagonal noise term.  If we add a diagonal noise term, $K' = K_1 \\otimes K_2 + \\sigma^2 I$, then the `eigh` routine can be used instead of the Cholesky to decompose individual matrices instead of the Cholesky, and the speedup is still obtained.\n",
    "\n",
    "I think an implementation in PyMC3 would be best done within the `GP` class.  Perhaps if the `cov_func` argument was given a list of covariance matrices and a list of inputs, the `GP` class would be able to sort it out.  For instance, something like\n",
    "\n",
    "    gp = pm.gp.GP('gp', cov_func=[k1, k2, k3], inputs=[x1, x2, x3])\n",
    "\n",
    "might work.\n",
    "\n",
    "##### References\n",
    "\n",
    "- [Saatchi Thesis](https://pdfs.semanticscholar.org/e08f/8db209278eabd13a6b9966e14d10c924b704.pdf)\n",
    "- KISS-GP\n",
    "- [Fast Hierarchical GPs](http://sethrf.com/files/fast-hierarchical-GPs.pdf)\n",
    "- [Efficient Infernce in Matrix-variate ...](https://papers.nips.cc/paper/4281-efficient-inference-in-matrix-variate-gaussian-models-with-iid-observation-noise)"
   ]
  },
  {
   "cell_type": "markdown",
   "metadata": {},
   "source": [
    "### The HODLR solver\n",
    "\n",
    "Many common covariance functions produce hierarchical off-diagonal low-rank (HODLR) covariance matrices, pictured below.  The HODLR solver can be applied to speed up inversion and determinant computation to $\\mathcal{O}(n log{}^2 n)$ time.  The algorithm can be applied in a black-box fashion, and works best on lower dimensional problems where $d < 3$.  Periodic covariances, for instance, are not HODLR.\n",
    "\n",
    "A low rank matrix is one with small eigenvalues that can be approximated as\n",
    "$$\n",
    "K \\approx Q_{n \\times p} D_{p \\times p} Q^T_{p \\times n}\n",
    "$$\n",
    "with $p < n$.  \n",
    "\n",
    "The HODLR solver uses fast low rank factorizations of off diagonal blocks, and usual full rank solvers for diagonal blocks.\n",
    "\n",
    "Below shows that the `Matern32` covariance is HODLR.  The GP library George contains bindings to the HODLR solver."
   ]
  },
  {
   "cell_type": "code",
   "execution_count": 4,
   "metadata": {
    "collapsed": false
   },
   "outputs": [
    {
     "name": "stdout",
     "output_type": "stream",
     "text": [
      "Rank of K: 100\n",
      "Rank of upper left block: 50\n",
      "Rank of lower left block: 2\n"
     ]
    },
    {
     "data": {
      "image/png": "[encoded data removed]",
      "text/plain": [
       "<matplotlib.figure.Figure at 0x7feb84d07be0>"
      ]
     },
     "metadata": {},
     "output_type": "display_data"
    }
   ],
   "source": [
    "x = np.linspace(0,1,100)[:,None]\n",
    "K = theano.function([], pm.gp.cov.Matern32(1, 0.4)(x))()\n",
    "tol = 1e-6\n",
    "\n",
    "fig = plt.figure(figsize=(10,5))\n",
    "ax1 = fig.add_subplot(131)\n",
    "ax2 = fig.add_subplot(132)\n",
    "ax3 = fig.add_subplot(133)\n",
    "ax1.imshow(K, cmap=\"inferno\",\n",
    "           interpolation='none')\n",
    "ax2.imshow(K[:50,:50], cmap=\"inferno\",\n",
    "           interpolation='none')\n",
    "ax3.imshow(K[50:,:50], cmap=\"inferno\",\n",
    "           interpolation='none')\n",
    "ax1.set_title(\"K\"); ax2.set_title(\"upper left block\"); ax3.set_title(\"lower left block\")\n",
    "\n",
    "print(\"Rank of K:\", np.linalg.matrix_rank(K, tol=tol))\n",
    "print(\"Rank of upper left block:\", np.linalg.matrix_rank(K[:50,:50], tol))\n",
    "print(\"Rank of lower left block:\", np.linalg.matrix_rank(K[50:,:50], tol))"
   ]
  },
  {
   "cell_type": "markdown",
   "metadata": {},
   "source": [
    "To include in PyMC3, a HODLR solver Op would need to be added to either PyMC3 or Theano.  I'm not sure how the gradient implementation would work here, depending on the details I could see this potentially being a little tricky.\n",
    "\n",
    "##### References\n",
    "\n",
    "- [HODLR solver paper](https://arxiv.org/pdf/1403.6015.pdf)\n",
    "- [HODLR solver code](https://github.com/sivaramambikasaran/HODLR)\n",
    "- [George](http://dan.iel.fm/george/current/)"
   ]
  },
  {
   "cell_type": "markdown",
   "metadata": {},
   "source": [
    "### Covariance functions with compact support\n",
    "\n",
    "If the data being fit doesn't exhibit long-distance correlations, then many elements in the covariance matrix will be near zero.  If the matrix were actually sparse, then linear algebra routines could be applied for computational gains. Simply zeroing out these small values won't in general produce a matrix that is positive definite.  \n",
    "\n",
    "Some kernels have compact support, and so will yield covariance matrices that are sparse when, for example, the domain of the data is large and the function being fit is high frequency or has a small lengthscale.  Including covariance function(s) with compact support should be pretty straightforward in PyMC3.\n",
    "\n",
    "##### References:\n",
    "\n",
    "- [Scattered Data Approximation, Wendland (ch 9)](https://www.amazon.com/Scattered-Approximation-Monographs-Computational-Mathematics/dp/0521843359)\n",
    "- [book chapter](http://www.math.iit.edu/~fass/603_ch4.pdf)"
   ]
  },
  {
   "cell_type": "markdown",
   "metadata": {},
   "source": [
    "## Making $n$ Smaller\n",
    "\n",
    "### Inducing Point Methods\n",
    "\n",
    "The two most popular inducing point approaches are SoR (subset of regressors) and FITC (...).\n",
    "\n"
   ]
  },
  {
   "cell_type": "markdown",
   "metadata": {},
   "source": [
    "### SKI (Structured Kernel Interpolation)\n",
    "\n",
    "is described in the KISS-GP paper.  This method is a generalization of inducing point methods, such as SoR and FITC.  This method doesn't exploit matrix structure directly itself, but gridded inducing points can be used to produce approximate covariance matrices with Toeplitz and/or Kronecker structure.  The idea is to approximate the true covariance matrix with an interpolated covariance matrix.\n",
    "\n",
    "First a grid of $m$ inducing points $U$ over the domain of $X$, which has $n$ data points. The kernel matrix computed at the inducing points is denoted $K_{U,U}$.  The true covariance matrix $K_{X,X}$ can be approximated as\n",
    "$$\n",
    "K_{X,X} \\approx W K_{U,U} W^T\n",
    "$$\n",
    "where $W$ is a matrix of interpolation weights.  Depending on the interpolation scheme used, $W$ can be very sparse.  For example, if $W$ represents local cubic interpolation, each row of $W$ will have 4 non-zero entries.  It isn't strictly necessary for the inducing points to be regularly spaced or on a multidimensional grid.  However, placing them on a grid enables special matrix inversion methods for Kronecker and Toeplitz structured matrices to be used.  The complexity of SKI depends on the number of inducing points used and how they are structured.\n",
    "\n",
    "The authors refer to SKI+Toeplitz+Kronecker as KISS-GP. It is implemented in the GPML version 4.0 MATLAB package.\n",
    "\n",
    "- [KISS-GP](https://arxiv.org/abs/1503.01057)\n",
    "- [GPML V4.0](http://www.gaussianprocess.org/gpml/code/matlab/doc/)\n",
    "- [Wilson et al. 2015](https://arxiv.org/abs/1511.01870)"
   ]
  },
  {
   "cell_type": "markdown",
   "metadata": {},
   "source": [
    "## Conclusion\n",
    "\n",
    "This was a summary of GP's and how possible speedups work.  Many of them can be mixed and matched in different ways, but all have tradeoffs.  Many require the covariance matrix to have special structure, and so cannot be used in all cases.  Other speedups approximate the gaussian process model, so the solutions are inexact."
   ]
  },
  {
   "cell_type": "code",
   "execution_count": null,
   "metadata": {
    "collapsed": true
   },
   "outputs": [],
   "source": []
  }
 ],
 "metadata": {
  "kernelspec": {
   "display_name": "Python [default]",
   "language": "python",
   "name": "python3"
  },
  "language_info": {
   "codemirror_mode": {
    "name": "ipython",
    "version": 3
   },
   "file_extension": ".py",
   "mimetype": "text/x-python",
   "name": "python",
   "nbconvert_exporter": "python",
   "pygments_lexer": "ipython3",
   "version": "3.5.2"
  }
 },
 "nbformat": 4,
 "nbformat_minor": 2
}
